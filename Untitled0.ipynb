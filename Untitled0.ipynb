{
  "nbformat": 4,
  "nbformat_minor": 0,
  "metadata": {
    "colab": {
      "provenance": [],
      "authorship_tag": "ABX9TyPPZqbeuKba76JKXuOuy4B9",
      "include_colab_link": true
    },
    "kernelspec": {
      "name": "python3",
      "display_name": "Python 3"
    },
    "language_info": {
      "name": "python"
    }
  },
  "cells": [
    {
      "cell_type": "markdown",
      "metadata": {
        "id": "view-in-github",
        "colab_type": "text"
      },
      "source": [
        "<a href=\"https://colab.research.google.com/github/irene-alonso/FRA_IESE_seminar_2023/blob/main/Untitled0.ipynb\" target=\"_parent\"><img src=\"https://colab.research.google.com/assets/colab-badge.svg\" alt=\"Open In Colab\"/></a>"
      ]
    },
    {
      "cell_type": "code",
      "source": [
        "pip install googlesearch-python\n"
      ],
      "metadata": {
        "id": "K2UjTAlryzsq"
      },
      "execution_count": null,
      "outputs": []
    },
    {
      "cell_type": "code",
      "source": [
        "import smtplib\n",
        "from email.mime.multipart import MIMEMultipart\n",
        "from email.mime.text import MIMEText\n",
        "from googlesearch import search\n",
        "\n",
        "# Configuración del correo electrónico\n",
        "smtp_server = 'smtp.gmail.com'\n",
        "smtp_port = 587\n",
        "email_usuario = 'irelonapp@gmail.com'\n",
        "email_contrasena = 'zyrj crjj tzpe ruys'\n",
        "email_destinatario = 'alonsosanz.irene@gmail.com'\n",
        "\n",
        "# Función para buscar noticias en Google\n",
        "def buscar_noticias(query, num_results=5):\n",
        "    resultados = search(query, num_results=num_results, lang='es')\n",
        "    noticias = [resultado for resultado in resultados]\n",
        "    return noticias\n",
        "\n",
        "# Función para enviar el correo electrónico\n",
        "def enviar_email(noticias, de, a, servidor, puerto, usuario, contrasena):\n",
        "    # Crear el mensaje\n",
        "    msg = MIMEMultipart()\n",
        "    msg['From'] = de\n",
        "    msg['To'] = a\n",
        "    msg['Subject'] = \"Noticias de Fiscalidad y Actualidad Laboral en España\"\n",
        "\n",
        "    # Agregar el contenido del mensaje\n",
        "    cuerpo = \"\\n\\n\".join(noticias)\n",
        "    msg.attach(MIMEText(cuerpo, 'plain'))\n",
        "\n",
        "    # Conectar al servidor SMTP y enviar el correo\n",
        "    try:\n",
        "        server = smtplib.SMTP(servidor, puerto)\n",
        "        server.starttls()\n",
        "        server.login(usuario, contrasena)\n",
        "        texto = msg.as_string()\n",
        "        server.sendmail(de, a, texto)\n",
        "        print(f\"Correo enviado a {a}\")\n",
        "    except Exception as e:\n",
        "        print(f\"Error al enviar el correo: {e}\")\n",
        "    finally:\n",
        "        server.quit()\n",
        "\n",
        "# Main\n",
        "if __name__ == \"__main__\":\n",
        "    # Buscar noticias en Google\n",
        "    query_fiscalidad = \"fiscalidad en España\"\n",
        "    query_actualidad_laboral = \"actualidad laboral en España\"\n",
        "\n",
        "    noticias_fiscalidad = buscar_noticias(query_fiscalidad)\n",
        "    noticias_actualidad_laboral = buscar_noticias(query_actualidad_laboral)\n",
        "\n",
        "    # Combinar las noticias\n",
        "    todas_noticias = noticias_fiscalidad + noticias_actualidad_laboral\n",
        "\n",
        "    # Enviar las noticias por correo electrónico\n",
        "    enviar_email(todas_noticias, email_usuario, email_destinatario, smtp_server, smtp_port, email_usuario, email_contrasena)\n"
      ],
      "metadata": {
        "colab": {
          "base_uri": "https://localhost:8080/"
        },
        "id": "90kwF4C6zn60",
        "outputId": "baafaada-5bb9-4ff1-ce5e-c676fad23a48"
      },
      "execution_count": 6,
      "outputs": [
        {
          "output_type": "stream",
          "name": "stdout",
          "text": [
            "Correo enviado a alonsosanz.irene@gmail.com\n"
          ]
        }
      ]
    }
  ]
}